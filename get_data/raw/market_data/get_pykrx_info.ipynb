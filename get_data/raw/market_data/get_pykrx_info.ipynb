{
 "cells": [
  {
   "cell_type": "code",
   "execution_count": 64,
   "metadata": {},
   "outputs": [],
   "source": [
    "from pykrx import stock\n",
    "import yfinance as yf\n",
    "from datetime import datetime, time, timedelta\n",
    "import os\n",
    "import time"
   ]
  },
  {
   "cell_type": "code",
   "execution_count": 3,
   "metadata": {},
   "outputs": [],
   "source": [
    "start_date = '20220720'\n",
    "end_date = '20220810'\n",
    "stock_code = '005930'"
   ]
  },
  {
   "cell_type": "code",
   "execution_count": 4,
   "metadata": {},
   "outputs": [],
   "source": [
    "def to_yfinance_time_format(YYYYMMDD:str):\n",
    "    '''\n",
    "    YYYYMMDD 형식으로 통일한 본 시스템의 input을 YYYY-MM-DD로 변환\n",
    "    '''\n",
    "    year = YYYYMMDD[:4]\n",
    "    month = YYYYMMDD[4:6]\n",
    "    date = YYYYMMDD[6:]\n",
    "    output_format = f'{year}-{month}-{date}'\n",
    "    return output_format"
   ]
  },
  {
   "cell_type": "code",
   "execution_count": 5,
   "metadata": {},
   "outputs": [],
   "source": [
    "def get_real_time_OHLCV(stock_code):\n",
    "    '''\n",
    "    yfinance에서 현재 시간 기준으로 호출된 날짜의 개장 후 5분봉 데이터를 실시간으로 조회 후 반환\n",
    "    '''\n",
    "    try:\n",
    "        # 종목 코드를 yfinance 형식에 맞게 변환\n",
    "        stock_code = f'{stock_code}.KS'\n",
    "\n",
    "        # 현재 시간\n",
    "        end_time = datetime.now()\n",
    "\n",
    "        # 당일 개장 시각 (오전 9시)\n",
    "        market_open_time = datetime.combine(end_time.date(), time(9, 0))\n",
    "\n",
    "        # 현재 시간이 개장 전일 경우 예외 처리\n",
    "        if end_time < market_open_time:\n",
    "            raise ValueError(\"시장이 아직 개장하지 않았습니다.\")\n",
    "\n",
    "        # 데이터 다운로드\n",
    "        data = yf.download(stock_code, start=market_open_time, end=end_time, interval='5m')\n",
    "\n",
    "        return data\n",
    "    \n",
    "    except Exception as e:\n",
    "        print(f\"yfinance 실시간 데이터 Fetch 실패: {e}\")\n",
    "        return None"
   ]
  },
  {
   "cell_type": "code",
   "execution_count": 40,
   "metadata": {},
   "outputs": [],
   "source": [
    "def get_daily_OHLCV(start_date:str, end_date:str, stock_code:str,):\n",
    "    '''\n",
    "    지정된 일자 간격에 대해 OHLCV 정보를 1시간봉 기준으로 조회 후 df형태로 반환\n",
    "    '''\n",
    "    try:\n",
    "        data = stock.get_market_ohlcv(start_date, end_date, stock_code)\n",
    "        return data\n",
    "    except Exception as e:\n",
    "        print(f\"pykrx 일자간 가격정보 Fetch 실패: {e}\")\n",
    "        return None"
   ]
  },
  {
   "cell_type": "code",
   "execution_count": 71,
   "metadata": {},
   "outputs": [],
   "source": [
    "def get_index_csvs(target_business_year):\n",
    "    '''\n",
    "    목표한 사업연도에 대해 pykrx가 제공하는 \n",
    "    ['코스피','코스피 대형주','코스피 중형주','코스피 소형주','음식료품','섬유의복','종이목재','화학','의약품','비금속광물','철강금속','기계','전기전자','의료정밀','운수장비','유통업','전기가스업','건설업','운수창고업','통신업','금융업','증권','보험','서비스업','제조업','코스피 200','코스피 100','코스피 50','코스피 200 커뮤니케이션서비스','코스피 200 건설','코스피 200 중공업','코스피 200 철강/소재','코스피 200 에너지/화학','코스피 200 정보기술','코스피 200 금융','코스피 200 생활소비재','코스피 200 경기소비재','코스피 200 산업재','코스피 200 헬스케어','코스피 200 중소형주','코스피 200 초대형제외 지수','코스피 200 비중상한 30%','코스피 200 비중상한 25%','코스피 200 비중상한 20%','코스피200제외 코스피지수','코스피 200 TOP 10']\n",
    "    의 인덱스들 모두 가져와서, 각 csv파일을 모두 별도로 저장.\n",
    "\n",
    "    이때, 경로는 ~./{store_data}/raw/market_data/{인덱스명}/{사업연도}/{사업연도}_{인덱스명}.csv\n",
    "    '''\n",
    "    try:\n",
    "        base_path = '../../../store_data/raw/market_data'\n",
    "\n",
    "        # 종목 코드를 key, 종목명을 value로 하는 dict 생성\n",
    "        index_ticker_dict = {}\n",
    "        for ticker in stock.get_index_ticker_list():\n",
    "            index_ticker_dict[ticker] = stock.get_index_ticker_name(ticker)\n",
    "\n",
    "        # 종목 코드만 list로 담아두기\n",
    "        index_ticker_list = list(index_ticker_dict.keys())\n",
    "\n",
    "        # 정보 조회 후 정의된 경로에 저장하기\n",
    "        for i in range(len(index_ticker_list)):\n",
    "            index_ticker = index_ticker_list[i]\n",
    "            index_name = index_ticker_dict[index_ticker]\n",
    "\n",
    "            start_date = f'{target_business_year}0101'\n",
    "            end_date = f'{target_business_year}1231'\n",
    "            \n",
    "            info = stock.get_index_ohlcv(start_date, end_date, index_ticker)\n",
    "\n",
    "            # 최종 저장 경로 생성\n",
    "            final_file_path = os.path.join(base_path, f'{index_name}/{target_business_year}/{target_business_year}_{index_name}.csv')\n",
    "\n",
    "            # 디렉토리 생성 (이미 존재하는 경우 예외 처리)\n",
    "            os.makedirs(os.path.dirname(final_file_path), exist_ok=True)\n",
    "\n",
    "            # DataFrame을 CSV 파일로 저장\n",
    "            info.to_csv(final_file_path, index=False)\n",
    "\n",
    "            # api 호출 빈도 조정\n",
    "            time.sleep(0.5)\n",
    "            print(f'{target_business_year} {index_name} CSV 파일 저장 {i+1}/{len(index_ticker_list)}')\n",
    "\n",
    "        print(f'인덱스 지표 CSV 파일 저장 성공')\n",
    "    except Exception as e:\n",
    "        print(f'인덱스 지표 CSV 저장 실패: {e}')"
   ]
  },
  {
   "cell_type": "code",
   "execution_count": null,
   "metadata": {},
   "outputs": [],
   "source": []
  },
  {
   "cell_type": "code",
   "execution_count": null,
   "metadata": {},
   "outputs": [],
   "source": []
  },
  {
   "cell_type": "code",
   "execution_count": null,
   "metadata": {},
   "outputs": [],
   "source": []
  }
 ],
 "metadata": {
  "kernelspec": {
   "display_name": "finTF",
   "language": "python",
   "name": "python3"
  },
  "language_info": {
   "codemirror_mode": {
    "name": "ipython",
    "version": 3
   },
   "file_extension": ".py",
   "mimetype": "text/x-python",
   "name": "python",
   "nbconvert_exporter": "python",
   "pygments_lexer": "ipython3",
   "version": "3.10.14"
  },
  "orig_nbformat": 4
 },
 "nbformat": 4,
 "nbformat_minor": 2
}
