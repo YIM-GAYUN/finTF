{
 "cells": [
  {
   "cell_type": "code",
   "execution_count": 1,
   "metadata": {},
   "outputs": [],
   "source": [
    "from opendart import get_financial_info\n",
    "from market_data import get_daily_OHLCV, get_real_time_OHLCV, get_index_csvs\n",
    "from crawling import crawl_ir_pdfs, crawl_sedaily_news"
   ]
  },
  {
   "cell_type": "code",
   "execution_count": 2,
   "metadata": {},
   "outputs": [],
   "source": [
    "stock_code = '003490'\n",
    "target_business_year = 2019"
   ]
  },
  {
   "cell_type": "code",
   "execution_count": 6,
   "metadata": {},
   "outputs": [
    {
     "name": "stdout",
     "output_type": "stream",
     "text": [
      "1/1 페이지 크롤링 중...\n",
      "크롤링 완료. /Users/yeonsuk/investment/store_data/raw/crawling/corp_rel_news/000270/2024/08/000270_2024.08.21_2024.08.25.csv에 저장되었습니다.\n"
     ]
    },
    {
     "data": {
      "text/html": [
       "<div>\n",
       "<style scoped>\n",
       "    .dataframe tbody tr th:only-of-type {\n",
       "        vertical-align: middle;\n",
       "    }\n",
       "\n",
       "    .dataframe tbody tr th {\n",
       "        vertical-align: top;\n",
       "    }\n",
       "\n",
       "    .dataframe thead th {\n",
       "        text-align: right;\n",
       "    }\n",
       "</style>\n",
       "<table border=\"1\" class=\"dataframe\">\n",
       "  <thead>\n",
       "    <tr style=\"text-align: right;\">\n",
       "      <th></th>\n",
       "      <th>news_title</th>\n",
       "      <th>news_category</th>\n",
       "      <th>news_date</th>\n",
       "    </tr>\n",
       "  </thead>\n",
       "  <tbody>\n",
       "    <tr>\n",
       "      <th>0</th>\n",
       "      <td>현대차·기아, 글로벌 3대 신용평가 '올 A'… 도요타·벤츠와 어깨 나란히</td>\n",
       "      <td>산업산업일반</td>\n",
       "      <td>2024.08.25</td>\n",
       "    </tr>\n",
       "    <tr>\n",
       "      <th>1</th>\n",
       "      <td>충돌 평가서 '최고점'…안전성 입증한 현대차그룹 E-GMP 전기차</td>\n",
       "      <td>산업산업일반</td>\n",
       "      <td>2024.08.25</td>\n",
       "    </tr>\n",
       "    <tr>\n",
       "      <th>2</th>\n",
       "      <td>기술력 빛난 제네시스·현대차…美 시장 만족도 조사 '정상'에</td>\n",
       "      <td>산업산업일반</td>\n",
       "      <td>2024.08.23</td>\n",
       "    </tr>\n",
       "    <tr>\n",
       "      <th>3</th>\n",
       "      <td>코스피, 美 금리인하 가능성에도 오름폭 제한…2700대 횡보[마감 시황]</td>\n",
       "      <td>증권국내증시</td>\n",
       "      <td>2024.08.22</td>\n",
       "    </tr>\n",
       "    <tr>\n",
       "      <th>4</th>\n",
       "      <td>\"차량 실내를 쾌적하게\" 현대차·기아, 열(熱)잡는 3대 신기술 공개</td>\n",
       "      <td>산업산업일반</td>\n",
       "      <td>2024.08.22</td>\n",
       "    </tr>\n",
       "    <tr>\n",
       "      <th>5</th>\n",
       "      <td>코스피, 2700대 보합세…잭슨홀 미팅 앞두고 관망</td>\n",
       "      <td>증권국내증시</td>\n",
       "      <td>2024.08.22</td>\n",
       "    </tr>\n",
       "    <tr>\n",
       "      <th>6</th>\n",
       "      <td>S&amp;P도 ‘A등급’ 부여…현대차·기아, 3대 신용평가 기관 ‘올 A’</td>\n",
       "      <td>산업산업일반</td>\n",
       "      <td>2024.08.22</td>\n",
       "    </tr>\n",
       "    <tr>\n",
       "      <th>7</th>\n",
       "      <td>기아, 배터리 이상 감지 땐 고객에게 '문자메시지'</td>\n",
       "      <td>산업산업일반</td>\n",
       "      <td>2024.08.21</td>\n",
       "    </tr>\n",
       "  </tbody>\n",
       "</table>\n",
       "</div>"
      ],
      "text/plain": [
       "                                  news_title news_category   news_date\n",
       "0  현대차·기아, 글로벌 3대 신용평가 '올 A'… 도요타·벤츠와 어깨 나란히        산업산업일반  2024.08.25\n",
       "1       충돌 평가서 '최고점'…안전성 입증한 현대차그룹 E-GMP 전기차        산업산업일반  2024.08.25\n",
       "2          기술력 빛난 제네시스·현대차…美 시장 만족도 조사 '정상'에        산업산업일반  2024.08.23\n",
       "3   코스피, 美 금리인하 가능성에도 오름폭 제한…2700대 횡보[마감 시황]        증권국내증시  2024.08.22\n",
       "4     \"차량 실내를 쾌적하게\" 현대차·기아, 열(熱)잡는 3대 신기술 공개        산업산업일반  2024.08.22\n",
       "5               코스피, 2700대 보합세…잭슨홀 미팅 앞두고 관망        증권국내증시  2024.08.22\n",
       "6     S&P도 ‘A등급’ 부여…현대차·기아, 3대 신용평가 기관 ‘올 A’        산업산업일반  2024.08.22\n",
       "7               기아, 배터리 이상 감지 땐 고객에게 '문자메시지'        산업산업일반  2024.08.21"
      ]
     },
     "execution_count": 6,
     "metadata": {},
     "output_type": "execute_result"
    }
   ],
   "source": [
    "crawl_sedaily_news('000270', '20240821', '20240825')"
   ]
  },
  {
   "cell_type": "code",
   "execution_count": 3,
   "metadata": {},
   "outputs": [],
   "source": [
    "# get_financial_info(stock_code, target_business_year)"
   ]
  },
  {
   "cell_type": "code",
   "execution_count": 4,
   "metadata": {},
   "outputs": [],
   "source": [
    "# get_daily_OHLCV('20190101', '20190103', stock_code)"
   ]
  },
  {
   "cell_type": "code",
   "execution_count": 5,
   "metadata": {},
   "outputs": [],
   "source": [
    "# get_real_time_OHLCV(stock_code)"
   ]
  },
  {
   "cell_type": "code",
   "execution_count": 1,
   "metadata": {},
   "outputs": [],
   "source": [
    "# get_index_csvs('2020')"
   ]
  },
  {
   "cell_type": "code",
   "execution_count": null,
   "metadata": {},
   "outputs": [],
   "source": []
  }
 ],
 "metadata": {
  "kernelspec": {
   "display_name": "finTF",
   "language": "python",
   "name": "python3"
  },
  "language_info": {
   "codemirror_mode": {
    "name": "ipython",
    "version": 3
   },
   "file_extension": ".py",
   "mimetype": "text/x-python",
   "name": "python",
   "nbconvert_exporter": "python",
   "pygments_lexer": "ipython3",
   "version": "3.10.14"
  },
  "orig_nbformat": 4
 },
 "nbformat": 4,
 "nbformat_minor": 2
}
