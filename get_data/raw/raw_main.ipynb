{
 "cells": [
  {
   "cell_type": "code",
   "execution_count": 1,
   "metadata": {},
   "outputs": [],
   "source": [
    "from opendart import get_financial_info\n",
    "from market_data import get_daily_OHLCV, get_real_time_OHLCV, get_index_csvs"
   ]
  },
  {
   "cell_type": "code",
   "execution_count": 2,
   "metadata": {},
   "outputs": [],
   "source": [
    "stock_code = '003490'\n",
    "target_business_year = 2019"
   ]
  },
  {
   "cell_type": "code",
   "execution_count": 3,
   "metadata": {},
   "outputs": [],
   "source": [
    "# get_financial_info(stock_code, target_business_year)"
   ]
  },
  {
   "cell_type": "code",
   "execution_count": 4,
   "metadata": {},
   "outputs": [],
   "source": [
    "# get_daily_OHLCV('20190101', '20190103', stock_code)"
   ]
  },
  {
   "cell_type": "code",
   "execution_count": 5,
   "metadata": {},
   "outputs": [],
   "source": [
    "# get_real_time_OHLCV(stock_code)"
   ]
  },
  {
   "cell_type": "code",
   "execution_count": 6,
   "metadata": {},
   "outputs": [
    {
     "name": "stdout",
     "output_type": "stream",
     "text": [
      "2020 코스피 CSV 파일 저장 1/46\n",
      "2020 코스피 대형주 CSV 파일 저장 2/46\n",
      "2020 코스피 중형주 CSV 파일 저장 3/46\n",
      "2020 코스피 소형주 CSV 파일 저장 4/46\n",
      "2020 음식료품 CSV 파일 저장 5/46\n",
      "2020 섬유의복 CSV 파일 저장 6/46\n",
      "2020 종이목재 CSV 파일 저장 7/46\n",
      "2020 화학 CSV 파일 저장 8/46\n",
      "2020 의약품 CSV 파일 저장 9/46\n",
      "2020 비금속광물 CSV 파일 저장 10/46\n",
      "2020 철강금속 CSV 파일 저장 11/46\n",
      "2020 기계 CSV 파일 저장 12/46\n",
      "2020 전기전자 CSV 파일 저장 13/46\n",
      "2020 의료정밀 CSV 파일 저장 14/46\n",
      "2020 운수장비 CSV 파일 저장 15/46\n",
      "2020 유통업 CSV 파일 저장 16/46\n",
      "2020 전기가스업 CSV 파일 저장 17/46\n",
      "2020 건설업 CSV 파일 저장 18/46\n",
      "2020 운수창고업 CSV 파일 저장 19/46\n",
      "2020 통신업 CSV 파일 저장 20/46\n",
      "2020 금융업 CSV 파일 저장 21/46\n",
      "2020 증권 CSV 파일 저장 22/46\n",
      "2020 보험 CSV 파일 저장 23/46\n",
      "2020 서비스업 CSV 파일 저장 24/46\n",
      "2020 제조업 CSV 파일 저장 25/46\n",
      "2020 코스피 200 CSV 파일 저장 26/46\n",
      "2020 코스피 100 CSV 파일 저장 27/46\n",
      "2020 코스피 50 CSV 파일 저장 28/46\n",
      "2020 코스피 200 커뮤니케이션서비스 CSV 파일 저장 29/46\n",
      "2020 코스피 200 건설 CSV 파일 저장 30/46\n",
      "2020 코스피 200 중공업 CSV 파일 저장 31/46\n",
      "2020 코스피 200 철강/소재 CSV 파일 저장 32/46\n",
      "2020 코스피 200 에너지/화학 CSV 파일 저장 33/46\n",
      "2020 코스피 200 정보기술 CSV 파일 저장 34/46\n",
      "2020 코스피 200 금융 CSV 파일 저장 35/46\n",
      "2020 코스피 200 생활소비재 CSV 파일 저장 36/46\n",
      "2020 코스피 200 경기소비재 CSV 파일 저장 37/46\n",
      "2020 코스피 200 산업재 CSV 파일 저장 38/46\n",
      "2020 코스피 200 헬스케어 CSV 파일 저장 39/46\n",
      "2020 코스피 200 중소형주 CSV 파일 저장 40/46\n",
      "2020 코스피 200 초대형제외 지수 CSV 파일 저장 41/46\n",
      "2020 코스피 200 비중상한 30% CSV 파일 저장 42/46\n",
      "2020 코스피 200 비중상한 25% CSV 파일 저장 43/46\n",
      "2020 코스피 200 비중상한 20% CSV 파일 저장 44/46\n",
      "2020 코스피200제외 코스피지수 CSV 파일 저장 45/46\n",
      "2020 코스피 200 TOP 10 CSV 파일 저장 46/46\n",
      "인덱스 지표 CSV 파일 저장 성공\n"
     ]
    }
   ],
   "source": [
    "# get_index_csvs('2020')"
   ]
  },
  {
   "cell_type": "code",
   "execution_count": null,
   "metadata": {},
   "outputs": [],
   "source": []
  }
 ],
 "metadata": {
  "kernelspec": {
   "display_name": "finTF",
   "language": "python",
   "name": "python3"
  },
  "language_info": {
   "codemirror_mode": {
    "name": "ipython",
    "version": 3
   },
   "file_extension": ".py",
   "mimetype": "text/x-python",
   "name": "python",
   "nbconvert_exporter": "python",
   "pygments_lexer": "ipython3",
   "version": "3.10.14"
  },
  "orig_nbformat": 4
 },
 "nbformat": 4,
 "nbformat_minor": 2
}
