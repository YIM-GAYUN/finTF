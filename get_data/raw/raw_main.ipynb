{
 "cells": [
  {
   "cell_type": "code",
   "execution_count": 6,
   "metadata": {},
   "outputs": [],
   "source": [
    "from opendart import get_financial_info\n",
    "from market_data import get_daily_OHLCV, get_real_time_OHLCV, get_index_csvs\n",
    "from crawling import crawl_ir_pdfs, crawl_sedaily_news\n",
    "from FRED import get_global_info"
   ]
  },
  {
   "cell_type": "code",
   "execution_count": 7,
   "metadata": {},
   "outputs": [],
   "source": [
    "stock_code = '003490'\n",
    "target_business_year = 2019"
   ]
  },
  {
   "cell_type": "code",
   "execution_count": 9,
   "metadata": {},
   "outputs": [
    {
     "name": "stdout",
     "output_type": "stream",
     "text": [
      "US 데이터를 가져오는 중...\n",
      "EU 데이터를 가져오는 중...\n",
      "UK 데이터를 가져오는 중...\n",
      "JP 데이터를 가져오는 중...\n",
      "CN 데이터를 가져오는 중...\n",
      "US에 대해 CSV 변환 및 저장 시작...\n",
      "US에 대해 CSV 변환 및 저장 완료.\n",
      "EU에 대해 CSV 변환 및 저장 시작...\n",
      "EU에 대해 CSV 변환 및 저장 완료.\n",
      "UK에 대해 CSV 변환 및 저장 시작...\n",
      "UK에 대해 CSV 변환 및 저장 완료.\n",
      "JP에 대해 CSV 변환 및 저장 시작...\n",
      "JP에 대해 CSV 변환 및 저장 완료.\n",
      "CN에 대해 CSV 변환 및 저장 시작...\n",
      "CN에 대해 CSV 변환 및 저장 완료.\n",
      "FRED에서 가져온 국가별 경제지표를 csv로 저장했습니다.\n"
     ]
    }
   ],
   "source": [
    "start_date = '20190101'\n",
    "end_date = '20240828'\n",
    "\n",
    "get_global_info(start_date, end_date)"
   ]
  },
  {
   "cell_type": "code",
   "execution_count": 3,
   "metadata": {},
   "outputs": [],
   "source": [
    "# crawl_ir_pdfs()"
   ]
  },
  {
   "cell_type": "code",
   "execution_count": 4,
   "metadata": {},
   "outputs": [
    {
     "name": "stdout",
     "output_type": "stream",
     "text": [
      "1/24 페이지 크롤링 중...\n",
      "2/24 페이지 크롤링 중...\n",
      "3/24 페이지 크롤링 중...\n",
      "4/24 페이지 크롤링 중...\n",
      "5/24 페이지 크롤링 중...\n",
      "6/24 페이지 크롤링 중...\n",
      "7/24 페이지 크롤링 중...\n",
      "8/24 페이지 크롤링 중...\n",
      "9/24 페이지 크롤링 중...\n",
      "10/24 페이지 크롤링 중...\n",
      "11/24 페이지 크롤링 중...\n",
      "12/24 페이지 크롤링 중...\n",
      "13/24 페이지 크롤링 중...\n",
      "14/24 페이지 크롤링 중...\n",
      "15/24 페이지 크롤링 중...\n",
      "16/24 페이지 크롤링 중...\n",
      "17/24 페이지 크롤링 중...\n",
      "18/24 페이지 크롤링 중...\n",
      "19/24 페이지 크롤링 중...\n",
      "20/24 페이지 크롤링 중...\n",
      "21/24 페이지 크롤링 중...\n",
      "22/24 페이지 크롤링 중...\n",
      "23/24 페이지 크롤링 중...\n",
      "24/24 페이지 크롤링 중...\n",
      "크롤링 완료. /Users/yeonsuk/investment/finTF/store_data/raw/crawling/general_news/정책/2024/08/정책_2024.08.21_2024.08.25.csv에 저장되었습니다.\n"
     ]
    },
    {
     "data": {
      "text/html": [
       "<div>\n",
       "<style scoped>\n",
       "    .dataframe tbody tr th:only-of-type {\n",
       "        vertical-align: middle;\n",
       "    }\n",
       "\n",
       "    .dataframe tbody tr th {\n",
       "        vertical-align: top;\n",
       "    }\n",
       "\n",
       "    .dataframe thead th {\n",
       "        text-align: right;\n",
       "    }\n",
       "</style>\n",
       "<table border=\"1\" class=\"dataframe\">\n",
       "  <thead>\n",
       "    <tr style=\"text-align: right;\">\n",
       "      <th></th>\n",
       "      <th>news_title</th>\n",
       "      <th>news_category</th>\n",
       "      <th>news_date</th>\n",
       "    </tr>\n",
       "  </thead>\n",
       "  <tbody>\n",
       "    <tr>\n",
       "      <th>0</th>\n",
       "      <td>‘서울대 맘’ 스티커 논란의 교훈[김흥록 특파원의 뉴욕포커스]</td>\n",
       "      <td>오피니언사내칼럼</td>\n",
       "      <td>2024.08.25</td>\n",
       "    </tr>\n",
       "    <tr>\n",
       "      <th>1</th>\n",
       "      <td>신성환 금통위원 \"집값 계속 뛰면 금리 올려야 할 수도\"</td>\n",
       "      <td>국제경제·마켓</td>\n",
       "      <td>2024.08.25</td>\n",
       "    </tr>\n",
       "    <tr>\n",
       "      <th>2</th>\n",
       "      <td>'긴축서 완화로'…글로벌 중앙은행 금리정책 출구전략 띄운다</td>\n",
       "      <td>국제경제·마켓</td>\n",
       "      <td>2024.08.25</td>\n",
       "    </tr>\n",
       "    <tr>\n",
       "      <th>3</th>\n",
       "      <td>[스타즈IR] 하이브리드붐에 印 IPO 추진…성장전망 '맑음'</td>\n",
       "      <td>증권국내증시</td>\n",
       "      <td>2024.08.25</td>\n",
       "    </tr>\n",
       "    <tr>\n",
       "      <th>4</th>\n",
       "      <td>이광형 지재위원장 \"지식재산 강국 되려면 법원 역할 중요…'전문판사제' 도입 시급\"</td>\n",
       "      <td>산업IT</td>\n",
       "      <td>2024.08.25</td>\n",
       "    </tr>\n",
       "    <tr>\n",
       "      <th>...</th>\n",
       "      <td>...</td>\n",
       "      <td>...</td>\n",
       "      <td>...</td>\n",
       "    </tr>\n",
       "    <tr>\n",
       "      <th>207</th>\n",
       "      <td>내달부터 수도권 집 살때 대출한도 '이만큼' 줄어든다</td>\n",
       "      <td>경제·금융금융정책</td>\n",
       "      <td>2024.08.21</td>\n",
       "    </tr>\n",
       "    <tr>\n",
       "      <th>208</th>\n",
       "      <td>醫-政 갈등 6개월… '뉴노멀' 된 의료현장 공백, 의료개혁 기회로 보는 정부</td>\n",
       "      <td>문화·스포츠헬스</td>\n",
       "      <td>2024.08.21</td>\n",
       "    </tr>\n",
       "    <tr>\n",
       "      <th>209</th>\n",
       "      <td>\"음주운전 10만원 내세요\"…전동킥보드 단속 2주 만에 적발된 건수 무려</td>\n",
       "      <td>사회사회일반</td>\n",
       "      <td>2024.08.21</td>\n",
       "    </tr>\n",
       "    <tr>\n",
       "      <th>210</th>\n",
       "      <td>[사설] 기업들 “경기 부진” 고통 호소에도 ‘낙관론’에 빠진 경제팀</td>\n",
       "      <td>오피니언사설</td>\n",
       "      <td>2024.08.21</td>\n",
       "    </tr>\n",
       "    <tr>\n",
       "      <th>211</th>\n",
       "      <td>[사설] 해리스·트럼프 경제 정책 극명한 차이…플랜 A·B 모두 준비해야</td>\n",
       "      <td>오피니언사설</td>\n",
       "      <td>2024.08.21</td>\n",
       "    </tr>\n",
       "  </tbody>\n",
       "</table>\n",
       "<p>212 rows × 3 columns</p>\n",
       "</div>"
      ],
      "text/plain": [
       "                                         news_title news_category   news_date\n",
       "0                ‘서울대 맘’ 스티커 논란의 교훈[김흥록 특파원의 뉴욕포커스]      오피니언사내칼럼  2024.08.25\n",
       "1                   신성환 금통위원 \"집값 계속 뛰면 금리 올려야 할 수도\"       국제경제·마켓  2024.08.25\n",
       "2                  '긴축서 완화로'…글로벌 중앙은행 금리정책 출구전략 띄운다       국제경제·마켓  2024.08.25\n",
       "3                [스타즈IR] 하이브리드붐에 印 IPO 추진…성장전망 '맑음'        증권국내증시  2024.08.25\n",
       "4    이광형 지재위원장 \"지식재산 강국 되려면 법원 역할 중요…'전문판사제' 도입 시급\"          산업IT  2024.08.25\n",
       "..                                              ...           ...         ...\n",
       "207                   내달부터 수도권 집 살때 대출한도 '이만큼' 줄어든다     경제·금융금융정책  2024.08.21\n",
       "208     醫-政 갈등 6개월… '뉴노멀' 된 의료현장 공백, 의료개혁 기회로 보는 정부      문화·스포츠헬스  2024.08.21\n",
       "209        \"음주운전 10만원 내세요\"…전동킥보드 단속 2주 만에 적발된 건수 무려        사회사회일반  2024.08.21\n",
       "210          [사설] 기업들 “경기 부진” 고통 호소에도 ‘낙관론’에 빠진 경제팀        오피니언사설  2024.08.21\n",
       "211        [사설] 해리스·트럼프 경제 정책 극명한 차이…플랜 A·B 모두 준비해야        오피니언사설  2024.08.21\n",
       "\n",
       "[212 rows x 3 columns]"
      ]
     },
     "execution_count": 4,
     "metadata": {},
     "output_type": "execute_result"
    }
   ],
   "source": [
    "# crawl_sedaily_news('005930', '20240821', '20240825')\n",
    "# crawl_sedaily_news('정책', '20240821', '20240825')"
   ]
  },
  {
   "cell_type": "code",
   "execution_count": null,
   "metadata": {},
   "outputs": [],
   "source": [
    "# get_financial_info(stock_code, target_business_year)"
   ]
  },
  {
   "cell_type": "code",
   "execution_count": 4,
   "metadata": {},
   "outputs": [],
   "source": [
    "# get_daily_OHLCV('20190101', '20190103', stock_code)"
   ]
  },
  {
   "cell_type": "code",
   "execution_count": 5,
   "metadata": {},
   "outputs": [],
   "source": [
    "# get_real_time_OHLCV(stock_code)"
   ]
  },
  {
   "cell_type": "code",
   "execution_count": 1,
   "metadata": {},
   "outputs": [],
   "source": [
    "# get_index_csvs('2020')"
   ]
  },
  {
   "cell_type": "code",
   "execution_count": null,
   "metadata": {},
   "outputs": [],
   "source": []
  }
 ],
 "metadata": {
  "kernelspec": {
   "display_name": "finTF",
   "language": "python",
   "name": "python3"
  },
  "language_info": {
   "codemirror_mode": {
    "name": "ipython",
    "version": 3
   },
   "file_extension": ".py",
   "mimetype": "text/x-python",
   "name": "python",
   "nbconvert_exporter": "python",
   "pygments_lexer": "ipython3",
   "version": "3.10.14"
  },
  "orig_nbformat": 4
 },
 "nbformat": 4,
 "nbformat_minor": 2
}
